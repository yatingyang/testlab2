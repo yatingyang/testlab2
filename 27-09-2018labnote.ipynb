{
 "cells": [
  {
   "cell_type": "markdown",
   "metadata": {},
   "source": [
    "my second test"
   ]
  },
  {
   "cell_type": "code",
   "execution_count": 5,
   "metadata": {},
   "outputs": [],
   "source": [
    "import findspark\n",
    "findspark.init('/home/ubuntu/spark-2.1.1-bin-hadoop2.7')\n",
    "import pyspark\n",
    "from pyspark.sql import SparkSession\n",
    "spark = SparkSession.builder.appName('basics').getOrCreate()"
   ]
  },
  {
   "cell_type": "code",
   "execution_count": 7,
   "metadata": {},
   "outputs": [],
   "source": [
    "df = spark.read.csv('../aws-instance/Datasets/dataframe_dataset.csv',header=True,inferSchema=True)"
   ]
  },
  {
   "cell_type": "code",
   "execution_count": 8,
   "metadata": {},
   "outputs": [
    {
     "data": {
      "text/plain": [
       "DataFrame[age: int, job: string, marital: string, education: string, balance: int, housing: string, loan: string, duration: int, deposit: string]"
      ]
     },
     "execution_count": 8,
     "metadata": {},
     "output_type": "execute_result"
    }
   ],
   "source": [
    "df"
   ]
  },
  {
   "cell_type": "code",
   "execution_count": 10,
   "metadata": {},
   "outputs": [
    {
     "name": "stdout",
     "output_type": "stream",
     "text": [
      "+---+-----------+--------+---------+-------+-------+----+--------+-------+\n",
      "|age|        job| marital|education|balance|housing|loan|duration|deposit|\n",
      "+---+-----------+--------+---------+-------+-------+----+--------+-------+\n",
      "| 59|     admin.|    null|secondary|   2343|    yes|  no|    1042|    yes|\n",
      "| 56|     admin.| married|secondary|   null|     no|  no|    1467|    yes|\n",
      "| 41| technician| married|secondary|   1270|    yes|  no|    1389|    yes|\n",
      "| 55|   services|    null|secondary|   null|    yes|  no|     579|    yes|\n",
      "| 54|     admin.| married| tertiary|    184|     no|  no|     673|    yes|\n",
      "| 42| management|    null| tertiary|      0|    yes| yes|     562|    yes|\n",
      "| 56| management| married| tertiary|    830|    yes| yes|    1201|    yes|\n",
      "| 60|    retired|    null|secondary|    545|    yes|  no|    1030|    yes|\n",
      "| 37| technician| married|secondary|      1|    yes|  no|     608|    yes|\n",
      "| 28|   services|    null|secondary|   null|    yes|  no|    1297|    yes|\n",
      "| 38|     admin.|  single|secondary|    100|    yes|  no|     786|    yes|\n",
      "| 30|blue-collar| married|secondary|    309|    yes|  no|    1574|    yes|\n",
      "| 29| management| married| tertiary|    199|    yes| yes|    1689|    yes|\n",
      "| 46|blue-collar|  single| tertiary|    460|    yes|  no|    1102|    yes|\n",
      "| 31| technician|  single| tertiary|    703|    yes|  no|     943|    yes|\n",
      "| 35| management|divorced| tertiary|   3837|    yes|  no|    1084|    yes|\n",
      "| 32|blue-collar|  single|  primary|   null|    yes|  no|     541|    yes|\n",
      "| 49|   services| married|secondary|     -8|    yes|  no|    1119|    yes|\n",
      "| 41|     admin.| married|secondary|     55|    yes|  no|    1120|    yes|\n",
      "| 49|     admin.|divorced|secondary|    168|    yes| yes|     513|    yes|\n",
      "+---+-----------+--------+---------+-------+-------+----+--------+-------+\n",
      "only showing top 20 rows\n",
      "\n"
     ]
    }
   ],
   "source": [
    "df.show()"
   ]
  },
  {
   "cell_type": "code",
   "execution_count": 13,
   "metadata": {},
   "outputs": [
    {
     "name": "stdout",
     "output_type": "stream",
     "text": [
      "root\n",
      " |-- age: integer (nullable = true)\n",
      " |-- job: string (nullable = true)\n",
      " |-- marital: string (nullable = true)\n",
      " |-- education: string (nullable = true)\n",
      " |-- balance: integer (nullable = true)\n",
      " |-- housing: string (nullable = true)\n",
      " |-- loan: string (nullable = true)\n",
      " |-- duration: integer (nullable = true)\n",
      " |-- deposit: string (nullable = true)\n",
      "\n",
      "[Row(age=59, job='admin.', marital=None, education='secondary', balance=2343, housing='yes', loan='no', duration=1042, deposit='yes')]\n"
     ]
    }
   ],
   "source": [
    "df.printSchema()\n",
    "print(df.head(1))"
   ]
  },
  {
   "cell_type": "code",
   "execution_count": 14,
   "metadata": {},
   "outputs": [
    {
     "name": "stdout",
     "output_type": "stream",
     "text": [
      "+-------+-----------------+-------+--------+---------+------------------+-------+----+------------------+-------+\n",
      "|summary|              age|    job| marital|education|           balance|housing|loan|          duration|deposit|\n",
      "+-------+-----------------+-------+--------+---------+------------------+-------+----+------------------+-------+\n",
      "|  count|              100|    100|      95|      100|                96|    100| 100|               100|    100|\n",
      "|   mean|            40.92|   null|    null|     null|1074.5520833333333|   null|null|            931.97|   null|\n",
      "| stddev|9.704398669436122|   null|    null|     null|1709.7039686497387|   null|null|353.62730638085895|   null|\n",
      "|    min|               23| admin.|divorced|  primary|              -416|     no|  no|               395|    yes|\n",
      "|    max|               60|unknown|  single|  unknown|             10576|    yes| yes|              2087|    yes|\n",
      "+-------+-----------------+-------+--------+---------+------------------+-------+----+------------------+-------+\n",
      "\n"
     ]
    }
   ],
   "source": [
    "df.describe().show()"
   ]
  },
  {
   "cell_type": "code",
   "execution_count": null,
   "metadata": {},
   "outputs": [],
   "source": []
  }
 ],
 "metadata": {
  "kernelspec": {
   "display_name": "Python 3",
   "language": "python",
   "name": "python3"
  },
  "language_info": {
   "codemirror_mode": {
    "name": "ipython",
    "version": 3
   },
   "file_extension": ".py",
   "mimetype": "text/x-python",
   "name": "python",
   "nbconvert_exporter": "python",
   "pygments_lexer": "ipython3",
   "version": "3.5.2"
  }
 },
 "nbformat": 4,
 "nbformat_minor": 2
}
